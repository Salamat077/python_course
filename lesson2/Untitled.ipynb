{
 "cells": [
  {
   "cell_type": "code",
   "execution_count": 5,
   "id": "4b00474a-b8b8-4ff4-b1d2-5fc7bb508c9d",
   "metadata": {},
   "outputs": [
    {
     "name": "stdin",
     "output_type": "stream",
     "text": [
      "сан енгізіңіз:  2\n",
      "екінші сан енгізіңіз:  56\n"
     ]
    },
    {
     "name": "stdout",
     "output_type": "stream",
     "text": [
      "олардың қосындысы: \n",
      "58\n"
     ]
    }
   ],
   "source": [
    "user_input = input('сан енгізіңіз: ')\n",
    "number = int( user_input)           \n",
    "user_input2 = input('екінші сан енгізіңіз: ')\n",
    "number2 = int( user_input2 )\n",
    "if( user_input == '+' ):\n",
    "    print( number + number2 )"
   ]
  },
  {
   "cell_type": "code",
   "execution_count": 8,
   "id": "ea86c12a-c2db-4ed8-ab27-21b04633e999",
   "metadata": {},
   "outputs": [
    {
     "name": "stdout",
     "output_type": "stream",
     "text": [
      "alma\n",
      "almurt\n",
      "banan\n",
      "alma\n",
      "almurt\n",
      "banan\n",
      "alma\n",
      "almurt\n",
      "banan\n",
      "alma\n",
      "almurt\n",
      "banan\n",
      "alma\n",
      "almurt\n",
      "banan\n"
     ]
    }
   ],
   "source": [
    "sunduk = ['alma', 'almurt', 'banan']\n",
    "\n",
    "for i in range(5):\n",
    "    for veshi in sunduk:\n",
    "        print(veshi)\n",
    "    "
   ]
  },
  {
   "cell_type": "code",
   "execution_count": 9,
   "id": "8316e753-8f4a-4873-b0a2-f4016720ebcc",
   "metadata": {},
   "outputs": [
    {
     "ename": "IndentationError",
     "evalue": "expected an indented block after 'for' statement on line 1 (2686171080.py, line 2)",
     "output_type": "error",
     "traceback": [
      "\u001b[1;36m  Cell \u001b[1;32mIn[9], line 2\u001b[1;36m\u001b[0m\n\u001b[1;33m    user_input = input('сан енгізіңіз: ')\u001b[0m\n\u001b[1;37m    ^\u001b[0m\n\u001b[1;31mIndentationError\u001b[0m\u001b[1;31m:\u001b[0m expected an indented block after 'for' statement on line 1\n"
     ]
    }
   ],
   "source": [
    "for i in range(100):\n",
    "user_input = input('сан енгізіңіз: ')\n",
    "number = int( user_input)\n",
    "user_input3 = input('таңба енгізіңіз: ')\n",
    "user_input2 = input('екінші сан енгізіңіз: ')\n",
    "number2 = int( user_input2 )\n",
    "\n",
    "if( user_input3 == '+' ):\n",
    "    print( number + number2 )\n",
    "elif(user_input3 == '-'):\n",
    "    print( number + number2 )\n",
    "elif(user_input == '*'):\n",
    "    print( number + number2 )\n",
    "elif(user_input3 == '/'):\n",
    "     if number2 != 0:\n",
    "        print( number + number2 ) \n",
    "elif(user_input3 == '!'):\n",
    "    print( number / number2 )\n",
    "else:\n",
    "    print(\"На ноль делить нельзя!\")\n",
    "    break\n",
    "else:\n",
    "print(\"Неверная операция!\")\n",
    "    \n",
    "\n",
    "    "
   ]
  },
  {
   "cell_type": "code",
   "execution_count": null,
   "id": "7e4fdc98-969e-460c-973d-9c4bb74043a0",
   "metadata": {},
   "outputs": [],
   "source": []
  }
 ],
 "metadata": {
  "kernelspec": {
   "display_name": "Python 3 (ipykernel)",
   "language": "python",
   "name": "python3"
  },
  "language_info": {
   "codemirror_mode": {
    "name": "ipython",
    "version": 3
   },
   "file_extension": ".py",
   "mimetype": "text/x-python",
   "name": "python",
   "nbconvert_exporter": "python",
   "pygments_lexer": "ipython3",
   "version": "3.12.4"
  }
 },
 "nbformat": 4,
 "nbformat_minor": 5
}
